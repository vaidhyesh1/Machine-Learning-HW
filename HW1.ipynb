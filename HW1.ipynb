{
  "nbformat": 4,
  "nbformat_minor": 0,
  "metadata": {
    "colab": {
      "name": "Untitled0.ipynb",
      "provenance": [],
      "authorship_tag": "ABX9TyOpeW0wFyI5FXF23+Ld/vN+",
      "include_colab_link": true
    },
    "kernelspec": {
      "name": "python3",
      "display_name": "Python 3"
    },
    "language_info": {
      "name": "python"
    }
  },
  "cells": [
    {
      "cell_type": "markdown",
      "metadata": {
        "id": "view-in-github",
        "colab_type": "text"
      },
      "source": [
        "<a href=\"https://colab.research.google.com/github/vaidhyesh1/Machine-Learning-HW/blob/main/HW1.ipynb\" target=\"_parent\"><img src=\"https://colab.research.google.com/assets/colab-badge.svg\" alt=\"Open In Colab\"/></a>"
      ]
    },
    {
      "cell_type": "code",
      "metadata": {
        "id": "5h16oqguiHoV",
        "colab": {
          "base_uri": "https://localhost:8080/"
        },
        "outputId": "a92b64f2-43a2-4ed5-b3c3-999a16c15db6"
      },
      "source": [
        "import pandas as pd\n",
        "\n",
        "#Initialization of the training, validation and testing datasets\n",
        "df_train = pd.read_csv('/content/data_train.csv', header = None)\n",
        "df_train.columns = ['age','year_of_operation','positive_aux_lymph','survival']\n",
        "\n",
        "df_dev = pd.read_csv('/content/data_dev.csv', header = None)\n",
        "df_dev.columns = ['age','year_of_operation','positive_aux_lymph','survival']\n",
        "\n",
        "df_test = pd.read_csv('/content/data_test.csv', header = None)\n",
        "df_test.columns = ['age','year_of_operation','positive_aux_lymph','survival']\n"
      ],
      "execution_count": 5,
      "outputs": [
        {
          "output_type": "stream",
          "name": "stdout",
          "text": [
            "1    173\n",
            "2     72\n",
            "Name: survival, dtype: int64\n"
          ]
        }
      ]
    },
    {
      "cell_type": "code",
      "metadata": {
        "colab": {
          "base_uri": "https://localhost:8080/"
        },
        "id": "dl4OnWEFh-jk",
        "outputId": "ba8a4108-733c-4d2b-87f4-766fd1e485f7"
      },
      "source": [
        "#Counting the number of people who survived after 5 years and people who didn't\n",
        "print(df_train['survival'].value_counts())\n"
      ],
      "execution_count": 6,
      "outputs": [
        {
          "output_type": "stream",
          "name": "stdout",
          "text": [
            "1    173\n",
            "2     72\n",
            "Name: survival, dtype: int64\n"
          ]
        }
      ]
    },
    {
      "cell_type": "code",
      "metadata": {
        "id": "Mxj5KdHPaqOi"
      },
      "source": [
        ""
      ],
      "execution_count": null,
      "outputs": []
    }
  ]
}